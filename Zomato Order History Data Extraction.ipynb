{
 "cells": [
  {
   "cell_type": "code",
   "execution_count": 86,
   "id": "0c3c9e53",
   "metadata": {},
   "outputs": [],
   "source": [
    "import pandas as pd\n",
    "import numpy as np\n",
    "import re\n",
    "import time\n",
    "from selenium import webdriver\n",
    "from selenium.webdriver.common.by import By\n",
    "from selenium.webdriver.support import expected_conditions as EC\n",
    "from selenium.webdriver.support.ui import WebDriverWait\n",
    "# from selenium.common.exceptions import NoSuchElementException\n",
    "# from selenium.common.exceptions import StaleElementReferenceException"
   ]
  },
  {
   "cell_type": "code",
   "execution_count": 2,
   "id": "94eb255c",
   "metadata": {},
   "outputs": [],
   "source": [
    "def get_orders_displayed(showing_el):\n",
    "    temp = re.search('Showing (.*?) of', showing_el.text).group(1)\n",
    "    return int(temp.split(\"-\")[-1]), int(temp.split(\"-\")[0])"
   ]
  },
  {
   "cell_type": "code",
   "execution_count": 3,
   "id": "9fe592ee",
   "metadata": {},
   "outputs": [],
   "source": [
    "def get_total_orders(showing_el):\n",
    "    temp = re.search('of (.*?) orders', showing_el.text).group(1)\n",
    "    return int(temp)"
   ]
  },
  {
   "cell_type": "code",
   "execution_count": 4,
   "id": "d706cd8d",
   "metadata": {},
   "outputs": [],
   "source": [
    "def check_if_last_page(total_orders, max_order_displayed):\n",
    "    if max_order_displayed == total_orders:\n",
    "        return 1\n",
    "    return 0"
   ]
  },
  {
   "cell_type": "code",
   "execution_count": 43,
   "id": "1383f3d1",
   "metadata": {},
   "outputs": [],
   "source": [
    "def get_profile_url(page_source):\n",
    "    return re.search(r'profile_url\\\\\":\\\\\"(.*?)\\\\\",\\\\\"profile_picture', page_source).group(1)"
   ]
  },
  {
   "cell_type": "code",
   "execution_count": 44,
   "id": "92deb9c5",
   "metadata": {},
   "outputs": [],
   "source": [
    "def quit_driver(driver):\n",
    "    try:\n",
    "        driver.quit()\n",
    "    except:\n",
    "        pass"
   ]
  },
  {
   "cell_type": "code",
   "execution_count": 105,
   "id": "c8f30baa",
   "metadata": {},
   "outputs": [],
   "source": [
    "def login(driver):\n",
    "    driver.get('https://www.zomato.com/')\n",
    "    login_xpath = '/html/body/div[1]/div/div[2]/header/nav/ul[2]/li[3]/a'\n",
    "    try:\n",
    "        login_button = WebDriverWait(driver, 10).until(EC.element_to_be_clickable((By.XPATH, login_xpath)))\n",
    "        login_button.click()\n",
    "    except:\n",
    "        try:\n",
    "            profile_xpath = '/html/body/div[1]/div/div[2]/header/nav/ul[2]/li[3]/div/div/div[1]/span'\n",
    "            profile_xpathbutton = WebDriverWait(driver, 2).until(EC.presence_of_element_located((By.XPATH, profile_xpath)))\n",
    "            print(\"Already signed in\")\n",
    "            profile_url = get_profile_url(driver.page_source\n",
    "                                         )\n",
    "            driver.get('https://www.zomato.com{}/ordering'.format(profile_url))\n",
    "            return driver\n",
    "        except:\n",
    "            print(\"Some issue with finding login button\")\n",
    "        return 0\n",
    "    \n",
    "    print(\"Input Phone number\")\n",
    "    phone_num = input()\n",
    "    ph_input_xpath = '/html/body/div[4]/div/div[2]/section[2]/section/div[1]/div/input'\n",
    "    ph_input = WebDriverWait(driver, 10).until(EC.presence_of_element_located((By.XPATH, ph_input_xpath)))\n",
    "    ph_input.send_keys(phone_num)\n",
    "    \n",
    "    send_otp_xpath = '/html/body/div[4]/div/div[2]/section[2]/section/button/span'\n",
    "    send_otp = WebDriverWait(driver, 10).until(EC.element_to_be_clickable((By.XPATH, send_otp_xpath)))\n",
    "    send_otp.click()\n",
    "    \n",
    "    print(\"Input OTP\")\n",
    "    otp = str(input())\n",
    "    for otp_digit, otp_box in zip(list(otp), driver.find_elements_by_class_name('sc-hp56s6-1')):\n",
    "        otp_box.send_keys(otp_digit)\n",
    "        print(\"Typed digit {}\".format(otp_digit))\n",
    "    print(\"Done typing OTP\")\n",
    "    time.sleep(2)\n",
    "    \n",
    "    profile_url = get_profile_url(driver.page_source)\n",
    "    driver.get('https://www.zomato.com{}/ordering'.format(profile_url))\n",
    "    return driver"
   ]
  },
  {
   "cell_type": "code",
   "execution_count": 109,
   "id": "e4fc6829",
   "metadata": {},
   "outputs": [],
   "source": [
    "def extract_orders(driver, df_list):\n",
    "    driver = login(driver)\n",
    "    print(driver)\n",
    "    if driver != 0:\n",
    "        driver.get('https://www.zomato.com/users/sarath-lavu-76481316/ordering')\n",
    "        showing_xpath = '/html/body/div[1]/div/main/div/div[2]/div[2]/section/div/div[2]/div[1]'\n",
    "        showing_el = WebDriverWait(driver, 10).until(EC.presence_of_element_located((By.XPATH, showing_xpath)))\n",
    "        total_orders = get_total_orders(showing_el)\n",
    "        page_num = 1\n",
    "        order_count = 0\n",
    "        next_page_xpath = '/html/body/div[1]/div/main/div/div[2]/div[2]/section/div/div[2]/div[2]/div/a[6]'\n",
    "        while True:\n",
    "            showing_xpath = '/html/body/div[1]/div/main/div/div[2]/div[2]/section/div/div[2]/div[1]'\n",
    "            showing_el = WebDriverWait(driver, 10).until(EC.presence_of_element_located((By.XPATH, showing_xpath)))\n",
    "    #         showing_el = driver.find_elements(By.XPATH, showing_xpath)   \n",
    "            max_order, min_order = get_orders_displayed(showing_el)\n",
    "            num_orders = max_order - min_order + 1\n",
    "            print(\"Number of orders displayed in this page = {}\".format(num_orders))\n",
    "            for i in range(1, num_orders + 1):\n",
    "                time.sleep(0.5)\n",
    "                order_count+= 1\n",
    "                order_xpath = '/html/body/div[1]/div/main/div/div[2]/div[2]/section/div/div[1]/div[{}]'.format(i)\n",
    "                order_el = WebDriverWait(driver, 10).until(EC.presence_of_element_located((By.XPATH, order_xpath)))\n",
    "                df_list.append(order_el.text.split(\"\\n\"))\n",
    "                print(\"Data extracted for order number {}\".format(order_count))\n",
    "            page_row_xpath = '/html/body/div[1]/div/main/div/div[2]/div[2]/section/div/div[2]/div[2]/div'\n",
    "            page_row = WebDriverWait(driver, 10).until(EC.presence_of_element_located((By.XPATH, page_row_xpath)))\n",
    "            print(\"Data Extracted for page {}\".format(page_num))\n",
    "            page_num += 1\n",
    "            if check_if_last_page(total_orders, max_order):\n",
    "                print(\"This is the last page\")\n",
    "                break\n",
    "            else:\n",
    "                print(\"Going to next page\")\n",
    "                page_row.find_elements_by_xpath('./*')[-1].click()\n",
    "                print(\"Done going to next page\")\n",
    "    #             page_row_xpath = '/html/body/div[1]/div/main/div/div[2]/div[2]/section/div/div[2]/div[2]/div'\n",
    "    #             page_row = WebDriverWait(driver, 10).until(EC.presence_of_element_located((By.XPATH, page_row_xpath)))\n",
    "    #             next_page_xpath = '/html/body/div[1]/div/main/div/div[2]/div[2]/section/div/div[2]/div[2]/div/a[{}]'.format(len(pages_displayed) + 2)\n",
    "    #             next_page_button = WebDriverWait(driver, 10).until(EC.element_to_be_clickable((By.XPATH, next_page_xpath)))\n",
    "    #             next_page_button.click()\n",
    "            time.sleep(2)\n",
    "    else:\n",
    "        print(\"Some issue with the process of login\")\n",
    "    quit_driver(driver)\n",
    "    return df_list"
   ]
  },
  {
   "cell_type": "code",
   "execution_count": 6,
   "id": "0c514e7f",
   "metadata": {},
   "outputs": [],
   "source": [
    "exe_path = 'C:\\\\Users\\\\SHRI\\\\Downloads\\\\chromedriver.exe'"
   ]
  },
  {
   "cell_type": "code",
   "execution_count": 104,
   "id": "3ba7b291",
   "metadata": {},
   "outputs": [],
   "source": [
    "driver = webdriver.Chrome(executable_path=exe_path)"
   ]
  },
  {
   "cell_type": "code",
   "execution_count": 113,
   "id": "b51f3546",
   "metadata": {
    "scrolled": true
   },
   "outputs": [],
   "source": [
    "df_list = []\n",
    "df_list = extract_orders(driver, df_list)"
   ]
  },
  {
   "cell_type": "code",
   "execution_count": null,
   "id": "f42b2b07",
   "metadata": {},
   "outputs": [],
   "source": [
    "# pd.DataFrame(df_list).to_csv('Zomsato Order History.csv', index=False)"
   ]
  }
 ],
 "metadata": {
  "kernelspec": {
   "display_name": "Python 3 (ipykernel)",
   "language": "python",
   "name": "python3"
  },
  "language_info": {
   "codemirror_mode": {
    "name": "ipython",
    "version": 3
   },
   "file_extension": ".py",
   "mimetype": "text/x-python",
   "name": "python",
   "nbconvert_exporter": "python",
   "pygments_lexer": "ipython3",
   "version": "3.8.10"
  }
 },
 "nbformat": 4,
 "nbformat_minor": 5
}
